{
  "nbformat": 4,
  "nbformat_minor": 0,
  "metadata": {
    "colab": {
      "name": "butterfly.ipynb",
      "provenance": [],
      "collapsed_sections": []
    },
    "kernelspec": {
      "name": "python3",
      "display_name": "Python 3"
    },
    "language_info": {
      "name": "python"
    }
  },
  "cells": [
    {
      "cell_type": "code",
      "execution_count": 58,
      "metadata": {
        "colab": {
          "base_uri": "https://localhost:8080/"
        },
        "id": "I8s-WTqTnY4k",
        "outputId": "65b568ef-d5be-42aa-8633-be6b9d3b762e"
      },
      "outputs": [
        {
          "output_type": "stream",
          "name": "stdout",
          "text": [
            "--2022-04-24 07:04:48--  https://dphi-live.s3.eu-west-1.amazonaws.com/dataset/butterflies.zip\n",
            "Resolving dphi-live.s3.eu-west-1.amazonaws.com (dphi-live.s3.eu-west-1.amazonaws.com)... 52.218.20.3\n",
            "Connecting to dphi-live.s3.eu-west-1.amazonaws.com (dphi-live.s3.eu-west-1.amazonaws.com)|52.218.20.3|:443... connected.\n",
            "HTTP request sent, awaiting response... 200 OK\n",
            "Length: 239812069 (229M) [application/zip]\n",
            "Saving to: ‘butterflies.zip.1’\n",
            "\n",
            "butterflies.zip.1   100%[===================>] 228.70M  27.0MB/s    in 10s     \n",
            "\n",
            "2022-04-24 07:04:59 (22.7 MB/s) - ‘butterflies.zip.1’ saved [239812069/239812069]\n",
            "\n"
          ]
        }
      ],
      "source": [
        "!wget https://dphi-live.s3.eu-west-1.amazonaws.com/dataset/butterflies.zip"
      ]
    },
    {
      "cell_type": "code",
      "source": [
        "!apt-get install p7zip-full"
      ],
      "metadata": {
        "colab": {
          "base_uri": "https://localhost:8080/"
        },
        "id": "eA4bP7Yun0bu",
        "outputId": "b9c41438-f3f2-4ece-b02a-6fe2e353a19a"
      },
      "execution_count": 59,
      "outputs": [
        {
          "output_type": "stream",
          "name": "stdout",
          "text": [
            "Reading package lists... Done\n",
            "Building dependency tree       \n",
            "Reading state information... Done\n",
            "p7zip-full is already the newest version (16.02+dfsg-6).\n",
            "0 upgraded, 0 newly installed, 0 to remove and 40 not upgraded.\n"
          ]
        }
      ]
    },
    {
      "cell_type": "code",
      "source": [
        "!7za x /content/butterflies.zip"
      ],
      "metadata": {
        "colab": {
          "base_uri": "https://localhost:8080/"
        },
        "id": "BZHYVWSln4gc",
        "outputId": "a0357ab9-801b-4441-ce33-97c1c11fa548"
      },
      "execution_count": null,
      "outputs": [
        {
          "output_type": "stream",
          "name": "stdout",
          "text": [
            "\n",
            "7-Zip (a) [64] 16.02 : Copyright (c) 1999-2016 Igor Pavlov : 2016-05-21\n",
            "p7zip Version 16.02 (locale=en_US.UTF-8,Utf16=on,HugeFiles=on,64 bits,2 CPUs Intel(R) Xeon(R) CPU @ 2.20GHz (406F0),ASM,AES-NI)\n",
            "\n",
            "Scanning the drive for archives:\n",
            "  0M Scan /content/\b\b\b\b\b\b\b\b\b\b\b\b\b\b\b\b\b\b\b                   \b\b\b\b\b\b\b\b\b\b\b\b\b\b\b\b\b\b\b1 file, 239812069 bytes (229 MiB)\n",
            "\n",
            "Extracting archive: /content/butterflies.zip\n",
            " 44% 4096 Open\b\b\b\b\b\b\b\b\b\b\b\b\b\b              \b\b\b\b\b\b\b\b\b\b\b\b\b\b--\n",
            "Path = /content/butterflies.zip\n",
            "Type = zip\n",
            "Physical Size = 239812069\n",
            "\n",
            "  0%\b\b\b\b    \b\b\b\b\n",
            "Would you like to replace the existing file:\n",
            "  Path:     ./Butterfly Identification/Testing_set.csv\n",
            "  Size:     43479 bytes (43 KiB)\n",
            "  Modified: 2022-04-18 05:19:08\n",
            "with the file from archive:\n",
            "  Path:     Butterfly Identification/Testing_set.csv\n",
            "  Size:     43479 bytes (43 KiB)\n",
            "  Modified: 2022-04-18 05:19:08\n",
            "? (Y)es / (N)o / (A)lways / (S)kip all / A(u)to rename all / (Q)uit? "
          ]
        }
      ]
    },
    {
      "cell_type": "code",
      "source": [
        "import pandas as pd\n",
        "import numpy as np\n",
        "import tensorflow as tf\n",
        "import os\n",
        "import cv2\n",
        "from sklearn.model_selection import train_test_split"
      ],
      "metadata": {
        "id": "ry2cDAYYoDY9"
      },
      "execution_count": null,
      "outputs": []
    },
    {
      "cell_type": "code",
      "source": [
        "labels = pd.read_csv(\"/content/Butterfly Identification/Training_set.csv\")\n",
        "labels.head()"
      ],
      "metadata": {
        "id": "ur5DpVvjoRci"
      },
      "execution_count": null,
      "outputs": []
    },
    {
      "cell_type": "code",
      "source": [
        "labels.tail()"
      ],
      "metadata": {
        "id": "RI3cYXUmpfPj"
      },
      "execution_count": null,
      "outputs": []
    },
    {
      "cell_type": "code",
      "source": [
        "file_paths = [[fname, '/content/Butterfly Identification/train/' + fname] for fname in labels['filename']]"
      ],
      "metadata": {
        "id": "HF4Xfiadphu4"
      },
      "execution_count": null,
      "outputs": []
    },
    {
      "cell_type": "code",
      "source": [
        "if len(labels) == len(file_paths): \n",
        "  print('Number of labels i.e. ', len(labels), 'matches the number of filenames i.e. ', len(file_paths)) \n",
        "else: \n",
        "  print('Number of labels does not match the number of filenames')"
      ],
      "metadata": {
        "id": "5y39S-UFpoFI"
      },
      "execution_count": null,
      "outputs": []
    },
    {
      "cell_type": "code",
      "source": [
        "images = pd.DataFrame(file_paths, columns=['filename', 'filepaths']) \n",
        "images.head()"
      ],
      "metadata": {
        "id": "MEa03ryLd8iv"
      },
      "execution_count": null,
      "outputs": []
    },
    {
      "cell_type": "code",
      "source": [
        "train_data = pd.merge(images, labels, how = 'inner', on = 'filename') \n",
        "train_data.head()"
      ],
      "metadata": {
        "id": "1Y1kdNDlePts"
      },
      "execution_count": null,
      "outputs": []
    },
    {
      "cell_type": "code",
      "source": [
        "from sklearn.preprocessing import LabelEncoder \n",
        "le = LabelEncoder() \n",
        "train_data['label'] = le.fit_transform(train_data['label'])"
      ],
      "metadata": {
        "id": "cgQ8QdoneRHW"
      },
      "execution_count": null,
      "outputs": []
    },
    {
      "cell_type": "code",
      "source": [
        "data = [] # initialize an empty numpy array \n",
        "image_size = 100 # image size taken is 100 here. one can take other size too \n",
        "for i in range(len(train_data)):  \n",
        "  img_array = cv2.imread(train_data['filepaths'][i], cv2.IMREAD_GRAYSCALE) \n",
        "  # converting the image to gray scale  \n",
        "  new_img_array = cv2.resize(img_array, (image_size, image_size)) # resizing the image array \n",
        "  data.append([new_img_array, train_data['label'][i]])"
      ],
      "metadata": {
        "id": "vhQBMFgseWli"
      },
      "execution_count": null,
      "outputs": []
    },
    {
      "cell_type": "code",
      "source": [
        "4# image pixels of a image \n",
        "data[5]"
      ],
      "metadata": {
        "id": "KjzhNadMe0RX"
      },
      "execution_count": null,
      "outputs": []
    },
    {
      "cell_type": "code",
      "source": [
        "np.random.shuffle(data)"
      ],
      "metadata": {
        "id": "PvC1twBbe2j6"
      },
      "execution_count": null,
      "outputs": []
    },
    {
      "cell_type": "code",
      "source": [
        "x = [] \n",
        "y = [] \n",
        "for image in data: \n",
        " x.append(image[0]) \n",
        " y.append(image[1])  \n",
        " \n",
        "# converting x & y to numpy array as they are list \n",
        "x = np.array(x) \n",
        "y = np.array(y)"
      ],
      "metadata": {
        "id": "FZEv7wWpe6M4"
      },
      "execution_count": null,
      "outputs": []
    },
    {
      "cell_type": "code",
      "source": [
        "np.unique(y, return_counts=True)"
      ],
      "metadata": {
        "id": "_s1G9zzngo-B"
      },
      "execution_count": null,
      "outputs": []
    },
    {
      "cell_type": "code",
      "source": [
        "x = x.reshape(-1, 100, 100, 1)"
      ],
      "metadata": {
        "id": "M71RsWUze_3m"
      },
      "execution_count": null,
      "outputs": []
    },
    {
      "cell_type": "code",
      "source": [
        "X_train, X_val, y_train, y_val = train_test_split(x,y,test_size=0.3, random_state = 42)"
      ],
      "metadata": {
        "id": "PYQZQWflgwVn"
      },
      "execution_count": null,
      "outputs": []
    },
    {
      "cell_type": "code",
      "source": [
        "cnn = tf.keras.models.Sequential([ \n",
        "                                  tf.keras.layers.Conv2D(filters=32, kernel_size=(3, 3), activation='relu', input_shape=(100, 100, 1)), \n",
        "                                  tf.keras.layers.MaxPooling2D((2, 2)),  \n",
        "                                  \n",
        "                                  tf.keras.layers.Conv2D(filters=64, kernel_size=(3, 3), activation='relu'), \n",
        "                                  tf.keras.layers.MaxPooling2D((2, 2)),  \n",
        "                                  \n",
        "                                  # tf.keras.layers.Flatten(input_shape=(100, 100, 1)), \n",
        "                                  tf.keras.layers.Flatten(), \n",
        "                                  tf.keras.layers.Dense(64, activation='relu'), \n",
        "                                  tf.keras.layers.Dense(75, activation='softmax')\n",
        "                                   ])"
      ],
      "metadata": {
        "id": "MzxZaYONg0DL"
      },
      "execution_count": null,
      "outputs": []
    },
    {
      "cell_type": "code",
      "source": [
        "cnn.compile(optimizer='adam', \n",
        "            loss='sparse_categorical_crossentropy', \n",
        "            metrics=['accuracy'])"
      ],
      "metadata": {
        "id": "RdQBQWfGhB73"
      },
      "execution_count": null,
      "outputs": []
    },
    {
      "cell_type": "code",
      "source": [
        "cnn.fit(X_train, y_train, epochs=2, batch_size=1)"
      ],
      "metadata": {
        "id": "kgVmbye1hGVF"
      },
      "execution_count": null,
      "outputs": []
    },
    {
      "cell_type": "code",
      "source": [
        "cnn.evaluate(X_val, y_val)"
      ],
      "metadata": {
        "id": "w5YsI0y9hHim"
      },
      "execution_count": null,
      "outputs": []
    },
    {
      "cell_type": "code",
      "source": [
        "test_image_order = pd.read_csv(\"/content/Butterfly Identification/Testing_set.csv\") \n",
        "test_image_order.head()"
      ],
      "metadata": {
        "id": "_JRJ77TmhJ06"
      },
      "execution_count": null,
      "outputs": []
    },
    {
      "cell_type": "code",
      "source": [
        "file_paths = [[fname, '/content/Butterfly Identification/test/' + fname] for fname in test_image_order['filename']]"
      ],
      "metadata": {
        "id": "YfTNdhWGhMwg"
      },
      "execution_count": null,
      "outputs": []
    },
    {
      "cell_type": "code",
      "source": [
        "if len(test_image_order) == len(file_paths): \n",
        "  print('Number of image names i.e. ', len(test_image_order), 'matches the number of file paths i.e. ', len(file_paths)) \n",
        "else:\n",
        "  print('Number of image names does not match the number of filepaths')"
      ],
      "metadata": {
        "id": "eYxBsp1VhQ0S"
      },
      "execution_count": null,
      "outputs": []
    },
    {
      "cell_type": "code",
      "source": [
        "test_images = pd.DataFrame(file_paths, columns=['filename', 'filepaths']) \n",
        "test_images.head()"
      ],
      "metadata": {
        "id": "VBKYEAmYha9h"
      },
      "execution_count": null,
      "outputs": []
    },
    {
      "cell_type": "code",
      "source": [
        "#test_data = pd.merge(test_images, labels, how = 'inner', on = 'filename') \n",
        "#test_data.head()"
      ],
      "metadata": {
        "id": "EgTbrjgu0MoO"
      },
      "execution_count": null,
      "outputs": []
    },
    {
      "cell_type": "code",
      "source": [
        "#from sklearn.preprocessing import LabelEncoder \n",
        "#le = LabelEncoder() \n",
        "#test_data['label'] = le.fit_transform(test_data['label'])"
      ],
      "metadata": {
        "id": "zcuDXeYg0NI7"
      },
      "execution_count": null,
      "outputs": []
    },
    {
      "cell_type": "code",
      "source": [
        "test_pixel_data = [] \n",
        "image_size = 100 \n",
        "\n",
        "for i in range(len(test_images)): \n",
        "\n",
        "  img_array = cv2.imread(test_images['filepaths'][i], cv2.IMREAD_GRAYSCALE) \n",
        "  new_img_array = cv2.resize(img_array, (image_size, image_size)) \n",
        "  test_pixel_data.append(new_img_array)"
      ],
      "metadata": {
        "id": "tfi8c7E2hebJ"
      },
      "execution_count": null,
      "outputs": []
    },
    {
      "cell_type": "code",
      "source": [
        "test_pixel_data = np.array(test_pixel_data)"
      ],
      "metadata": {
        "id": "dD4AoOsShp60"
      },
      "execution_count": null,
      "outputs": []
    },
    {
      "cell_type": "code",
      "source": [
        "test_pixel_data = test_pixel_data.reshape(-1, 100, 100, 1)"
      ],
      "metadata": {
        "id": "HoVL2bzHhq_0"
      },
      "execution_count": null,
      "outputs": []
    },
    {
      "cell_type": "code",
      "source": [
        "pred = cnn.predict(test_pixel_data)"
      ],
      "metadata": {
        "id": "U8anprqbhs3n"
      },
      "execution_count": null,
      "outputs": []
    },
    {
      "cell_type": "code",
      "source": [
        "pred[0]"
      ],
      "metadata": {
        "id": "d-WmtIwyhuAA"
      },
      "execution_count": null,
      "outputs": []
    },
    {
      "cell_type": "code",
      "source": [
        "prediction = [] \n",
        "for value in pred: \n",
        "  prediction.append(np.argmax(value))"
      ],
      "metadata": {
        "id": "ZKg1sopHhv1c"
      },
      "execution_count": null,
      "outputs": []
    },
    {
      "cell_type": "code",
      "source": [
        "predictions = le.inverse_transform(prediction)"
      ],
      "metadata": {
        "id": "Fiix4kd7hzHV"
      },
      "execution_count": null,
      "outputs": []
    },
    {
      "cell_type": "code",
      "source": [
        "res = pd.DataFrame({'filename': test_data['filename'], 'label': predictions}) # prediction is nothing but the final predictions of your model on input features of your new unseen test data \n",
        "res.to_csv(\"submission.csv\", index = False)  \n",
        "\n",
        "# To download the csv file locally \n",
        "from google.colab import files  \n",
        "files.download('submission.csv')"
      ],
      "metadata": {
        "id": "t_-G8jPlh1Hu"
      },
      "execution_count": null,
      "outputs": []
    }
  ]
}